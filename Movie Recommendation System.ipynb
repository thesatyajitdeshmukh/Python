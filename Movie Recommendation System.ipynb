{
  "nbformat": 4,
  "nbformat_minor": 0,
  "metadata": {
    "colab": {
      "provenance": [],
      "toc_visible": true
    },
    "kernelspec": {
      "name": "python3",
      "display_name": "Python 3"
    },
    "language_info": {
      "name": "python"
    }
  },
  "cells": [
    {
      "cell_type": "markdown",
      "source": [
        "# **Movie Recommendation System**"
      ],
      "metadata": {
        "id": "gcNgcngnbjTw"
      }
    },
    {
      "cell_type": "markdown",
      "source": [
        "**Import Library**"
      ],
      "metadata": {
        "id": "dk618otjbtzU"
      }
    },
    {
      "cell_type": "code",
      "source": [
        "!pip install pandas"
      ],
      "metadata": {
        "id": "vdchWpqail2L"
      },
      "execution_count": null,
      "outputs": []
    },
    {
      "cell_type": "code",
      "source": [
        "import pandas as pd"
      ],
      "metadata": {
        "id": "w6J6DkrydCiR"
      },
      "execution_count": 20,
      "outputs": []
    },
    {
      "cell_type": "code",
      "source": [
        "import numpy as np"
      ],
      "metadata": {
        "id": "uCzLU86bdLb-"
      },
      "execution_count": 21,
      "outputs": []
    },
    {
      "cell_type": "markdown",
      "source": [
        "**Import Data**"
      ],
      "metadata": {
        "id": "2u0NFNydeQwd"
      }
    },
    {
      "cell_type": "code",
      "source": [
        "df = pd.read_csv ('https://github.com/YBI-Foundation/Dataset/raw/main/Movies%20Recommendation.csv')"
      ],
      "metadata": {
        "id": "ZBfT1jwvehWy"
      },
      "execution_count": 23,
      "outputs": []
    },
    {
      "cell_type": "markdown",
      "source": [
        "**Describe Data**"
      ],
      "metadata": {
        "id": "coWl3QVpkfze"
      }
    },
    {
      "cell_type": "code",
      "source": [
        "df.head()"
      ],
      "metadata": {
        "id": "l_-Wks8AkzH-"
      },
      "execution_count": null,
      "outputs": []
    },
    {
      "cell_type": "code",
      "source": [
        "df.info()"
      ],
      "metadata": {
        "id": "NCwljBwQlNAX"
      },
      "execution_count": null,
      "outputs": []
    },
    {
      "cell_type": "code",
      "source": [
        "df.shape"
      ],
      "metadata": {
        "id": "Az49BYBBj5sw"
      },
      "execution_count": null,
      "outputs": []
    },
    {
      "cell_type": "code",
      "source": [
        "df.columns"
      ],
      "metadata": {
        "id": "fCOd_o0PkV8t"
      },
      "execution_count": null,
      "outputs": []
    },
    {
      "cell_type": "markdown",
      "source": [
        "**Get Feature Selection**"
      ],
      "metadata": {
        "id": "q1Q1fdQGkpZK"
      }
    },
    {
      "cell_type": "code",
      "source": [
        "df.features = df[[ 'Movie_Genre','Movie_Keywords', 'Movie_Tagline','Movie_Cast', 'Movie_Director']].fillna('')"
      ],
      "metadata": {
        "id": "ySith7egk3_H"
      },
      "execution_count": null,
      "outputs": []
    },
    {
      "cell_type": "markdown",
      "source": [
        "Select five exting features to recommend movies it may vary from one project to another. Like one can add vote count budget language etc."
      ],
      "metadata": {
        "id": "8bycbeXRtXuT"
      }
    },
    {
      "source": [
        "!pip install line_profiler\n",
        "%load_ext line_profiler"
      ],
      "cell_type": "code",
      "metadata": {
        "id": "oxRtDFvhiiy0"
      },
      "execution_count": null,
      "outputs": []
    },
    {
      "source": [
        "df_features = pd.DataFrame({\"column1\": [1, 2, 3], \"column2\": [4, 5, 6]})"
      ],
      "cell_type": "code",
      "metadata": {
        "id": "tdmLbKr-jq6K"
      },
      "execution_count": null,
      "outputs": []
    },
    {
      "source": [
        "df_features.shape"
      ],
      "cell_type": "code",
      "metadata": {
        "id": "Ob9itwxzweEl"
      },
      "execution_count": null,
      "outputs": []
    },
    {
      "cell_type": "code",
      "source": [
        "df_features"
      ],
      "metadata": {
        "id": "trIsMDqAw5JU"
      },
      "execution_count": null,
      "outputs": []
    },
    {
      "source": [
        "print(df_features.columns)"
      ],
      "cell_type": "code",
      "metadata": {
        "id": "rv_eAaKvkGJs"
      },
      "execution_count": null,
      "outputs": []
    },
    {
      "source": [
        "expected_columns = ['Movie_Keywords', 'Movie_Tagline', 'Movie_Cast', 'Movie_Director']\n",
        "for col in expected_columns:\n",
        "    if col not in df_features.columns:\n",
        "        print(f\"Column '{col}' not found in DataFrame.\")"
      ],
      "cell_type": "code",
      "metadata": {
        "id": "nrgyJcZfkWmU"
      },
      "execution_count": null,
      "outputs": []
    },
    {
      "source": [
        "%whos"
      ],
      "cell_type": "code",
      "metadata": {
        "id": "iQ6avE0Jlvj-"
      },
      "execution_count": null,
      "outputs": []
    },
    {
      "source": [
        "x"
      ],
      "cell_type": "code",
      "metadata": {
        "id": "nW_OKNB8lw_R"
      },
      "execution_count": null,
      "outputs": []
    },
    {
      "source": [
        "x = np.array([1, 2, 3, 4, 5])"
      ],
      "cell_type": "code",
      "metadata": {
        "id": "pPfqllqLmRU0"
      },
      "execution_count": null,
      "outputs": []
    },
    {
      "cell_type": "code",
      "source": [
        "x.shape"
      ],
      "metadata": {
        "id": "OeYPWf8Jz6WM"
      },
      "execution_count": null,
      "outputs": []
    },
    {
      "cell_type": "markdown",
      "source": [
        "**Get Feature Text Conversion to Tokens**"
      ],
      "metadata": {
        "id": "2-cm7WeJ0b06"
      }
    },
    {
      "source": [
        "!pip install scikit-learn"
      ],
      "cell_type": "code",
      "metadata": {
        "id": "V6qx_d4RgAxJ"
      },
      "execution_count": null,
      "outputs": []
    },
    {
      "source": [
        "!pip show scikit-learn"
      ],
      "cell_type": "code",
      "metadata": {
        "id": "8gEB92E2gVmb"
      },
      "execution_count": null,
      "outputs": []
    },
    {
      "source": [
        "import sklearn\n",
        "print(sklearn.__version__)"
      ],
      "cell_type": "code",
      "metadata": {
        "id": "LmeIlsOqgdP_"
      },
      "execution_count": null,
      "outputs": []
    },
    {
      "source": [
        "from sklearn.feature_extraction.text import TfidfVectorizer"
      ],
      "cell_type": "code",
      "metadata": {
        "id": "xVpgvMmOgNlx"
      },
      "execution_count": null,
      "outputs": []
    },
    {
      "source": [
        "X = [\"This is the first document.\", \"This is the second document.\"]"
      ],
      "cell_type": "code",
      "metadata": {
        "id": "m8Zjk2RwhmIC"
      },
      "execution_count": null,
      "outputs": []
    },
    {
      "cell_type": "code",
      "source": [
        "tfidf = TfidfVectorizer()"
      ],
      "metadata": {
        "id": "MYAAwz5ag3eo"
      },
      "execution_count": null,
      "outputs": []
    },
    {
      "source": [
        "X = tfidf.fit_transform(X)"
      ],
      "cell_type": "code",
      "metadata": {
        "id": "erGq6mgFhrXB"
      },
      "execution_count": null,
      "outputs": []
    },
    {
      "cell_type": "code",
      "source": [
        "X.shape"
      ],
      "metadata": {
        "id": "Pwcp2AoFhxOd"
      },
      "execution_count": null,
      "outputs": []
    },
    {
      "cell_type": "code",
      "source": [
        "print(X)"
      ],
      "metadata": {
        "id": "iANCJCsHjzJn"
      },
      "execution_count": null,
      "outputs": []
    },
    {
      "cell_type": "markdown",
      "source": [
        "**Get Similarity Score using Similarity**"
      ],
      "metadata": {
        "id": "tuETJA3emn5v"
      }
    },
    {
      "cell_type": "code",
      "source": [
        "from sklearn.metrics.pairwise import cosine_similarity"
      ],
      "metadata": {
        "id": "RSxJHsf3m3qG"
      },
      "execution_count": null,
      "outputs": []
    },
    {
      "cell_type": "code",
      "source": [
        "from math import cos\n",
        "similarity_score = (X)"
      ],
      "metadata": {
        "id": "1inid83OnQDv"
      },
      "execution_count": null,
      "outputs": []
    },
    {
      "cell_type": "code",
      "source": [
        "similarity_score"
      ],
      "metadata": {
        "id": "wcyf9xqanpOI"
      },
      "execution_count": null,
      "outputs": []
    },
    {
      "cell_type": "code",
      "source": [
        "similarity_score.shape"
      ],
      "metadata": {
        "id": "6DEZ1fLdnw-u"
      },
      "execution_count": null,
      "outputs": []
    },
    {
      "cell_type": "markdown",
      "source": [
        "**Get movies name as input from user and validate for closest spelling**"
      ],
      "metadata": {
        "id": "ejEHPxVysmGQ"
      }
    },
    {
      "source": [
        "favourite_movie_name = input('Enter your favourite movie name: ')\n",
        "print(favourite_movie_name)"
      ],
      "cell_type": "code",
      "metadata": {
        "id": "lW1kWy9iuL0S"
      },
      "execution_count": null,
      "outputs": []
    },
    {
      "cell_type": "code",
      "source": [
        "All_Movies_Title_List = df['Movie_Title'].tolist()"
      ],
      "metadata": {
        "id": "bF3llprquism"
      },
      "execution_count": null,
      "outputs": []
    },
    {
      "cell_type": "code",
      "source": [
        "import difflib"
      ],
      "metadata": {
        "id": "kxW8yrZgvbsc"
      },
      "execution_count": null,
      "outputs": []
    },
    {
      "source": [
        "print(locals())"
      ],
      "cell_type": "code",
      "metadata": {
        "id": "5f5ck-BexvGy"
      },
      "execution_count": null,
      "outputs": []
    },
    {
      "source": [
        "Favourite_movie_name = \"Your favorite movie name\""
      ],
      "cell_type": "code",
      "metadata": {
        "id": "kDckgfPvxvho"
      },
      "execution_count": null,
      "outputs": []
    },
    {
      "cell_type": "code",
      "source": [
        "Movies_Recommendaton = difflib.get_close_matches(Favourite_movie_name,All_Movies_Title_List)\n",
        "print(Movies_Recommendaton)\n"
      ],
      "metadata": {
        "id": "xAJbXDD1wA5a"
      },
      "execution_count": null,
      "outputs": []
    },
    {
      "source": [
        "print(Movies_Recommendaton)"
      ],
      "cell_type": "code",
      "metadata": {
        "id": "C0DXPnpo04YS"
      },
      "execution_count": null,
      "outputs": []
    },
    {
      "source": [
        "print(len(Movies_Recommendaton))"
      ],
      "cell_type": "code",
      "metadata": {
        "id": "w6S8uY6_0SME"
      },
      "execution_count": null,
      "outputs": []
    },
    {
      "source": [
        "print(locals())"
      ],
      "cell_type": "code",
      "metadata": {
        "id": "nEQMF91tvNtU"
      },
      "execution_count": null,
      "outputs": []
    },
    {
      "source": [
        "Movies_Recommendaton = []"
      ],
      "cell_type": "code",
      "metadata": {
        "id": "y56CFFYtvOF1"
      },
      "execution_count": null,
      "outputs": []
    },
    {
      "source": [
        "print(len(Movies_Recommendaton))"
      ],
      "cell_type": "code",
      "metadata": {
        "id": "NgMluli8vOej"
      },
      "execution_count": null,
      "outputs": []
    },
    {
      "source": [
        "Movies_Recommendaton = []\n",
        "print(len(Movies_Recommendaton))"
      ],
      "cell_type": "code",
      "metadata": {
        "id": "oUFRXFpsvOyT"
      },
      "execution_count": null,
      "outputs": []
    },
    {
      "source": [
        "print(len(Movie_Recommendation))"
      ],
      "cell_type": "code",
      "metadata": {
        "id": "TAmYlOAOnHBk"
      },
      "execution_count": null,
      "outputs": []
    },
    {
      "source": [
        "if not Movie_Recommendation:\n",
        "    print(\"The Movie_Recommendation list is empty.\")"
      ],
      "cell_type": "code",
      "metadata": {
        "id": "xarBbkVVnWZV"
      },
      "execution_count": null,
      "outputs": []
    },
    {
      "source": [
        "if Movie_Recommendation:\n",
        "    Close_Match = Movie_Recommendation[0]\n",
        "    print(Close_Match)\n",
        "else:\n",
        "    print(\"The Movie_Recommendation list is empty.\")"
      ],
      "cell_type": "code",
      "metadata": {
        "id": "oagrZfvbna7T"
      },
      "execution_count": null,
      "outputs": []
    },
    {
      "source": [
        "try:\n",
        "    Close_Match = Movie_Recommendation[0]\n",
        "    print(Close_Match)\n",
        "except IndexError:\n",
        "    print(\"The Movie_Recommendation list is empty.\")"
      ],
      "cell_type": "code",
      "metadata": {
        "id": "-PN0euEgndj4"
      },
      "execution_count": null,
      "outputs": []
    },
    {
      "source": [
        "Index_of_Close_Match_Movie = df[df.Movie_Title == 'The Shawshank Redemption']['Movie_ID'].iloc[0]"
      ],
      "cell_type": "code",
      "metadata": {
        "id": "ax-QD-f5sNBx"
      },
      "execution_count": null,
      "outputs": []
    },
    {
      "source": [
        "print(Index_of_Close_Match_Movie)"
      ],
      "cell_type": "code",
      "metadata": {
        "id": "sge2V-cTsNX4"
      },
      "execution_count": null,
      "outputs": []
    },
    {
      "source": [
        "from collections import Counter"
      ],
      "cell_type": "code",
      "metadata": {
        "id": "6eFBmqxCtr5k"
      },
      "execution_count": null,
      "outputs": []
    },
    {
      "source": [
        "print(locals())"
      ],
      "cell_type": "code",
      "metadata": {
        "id": "4bl4Id1mtsm7"
      },
      "execution_count": null,
      "outputs": []
    },
    {
      "source": [
        "%whos similarity_score"
      ],
      "cell_type": "code",
      "metadata": {
        "id": "GMcb9Sqxt-w3"
      },
      "execution_count": null,
      "outputs": []
    },
    {
      "source": [
        "import sys"
      ],
      "cell_type": "code",
      "metadata": {
        "id": "gCoPqvTwuap6"
      },
      "execution_count": null,
      "outputs": []
    },
    {
      "source": [
        "global_variables = []"
      ],
      "cell_type": "code",
      "metadata": {
        "id": "Of6FBKp2uw6B"
      },
      "execution_count": null,
      "outputs": []
    },
    {
      "source": [
        "global_variables = sys.modules[__name__].__dict__\n",
        "print(global_variables)"
      ],
      "cell_type": "code",
      "metadata": {
        "id": "GEG3BgBFuiAm"
      },
      "execution_count": null,
      "outputs": []
    },
    {
      "source": [
        "# Investigate if the variable is defined.\n",
        "print(\"similarity_score\" in globals())"
      ],
      "cell_type": "code",
      "metadata": {
        "id": "H_pCaNGfvA_j"
      },
      "execution_count": null,
      "outputs": []
    },
    {
      "source": [
        "# Investigate where the variable is defined.\n",
        "%history"
      ],
      "cell_type": "code",
      "metadata": {
        "id": "H1av1bhFvBUs"
      },
      "execution_count": null,
      "outputs": []
    },
    {
      "source": [
        "from collections import Counter"
      ],
      "cell_type": "code",
      "metadata": {
        "id": "q_Ei6JyjvcC1"
      },
      "execution_count": null,
      "outputs": []
    },
    {
      "source": [
        "!python -m pip install pandas\n",
        "import pandas as pd\n",
        "\n",
        "df = pd.DataFrame(data={\"similarity_score\": [0.1, 0.2, 0.3]}, index=[\"Movie1\", \"Movie2\", \"Movie3\"])\n",
        "\n",
        "# Check if the variable exists\n",
        "if \"similarity_score\" in globals():\n",
        "    print(\"Variable 'similarity_score' exists.\")\n",
        "else:\n",
        "    print(\"Variable 'similarity_score' does not exist.\")"
      ],
      "cell_type": "code",
      "metadata": {
        "id": "shVZbIwFvdQ9"
      },
      "execution_count": null,
      "outputs": []
    },
    {
      "source": [
        "# Check if the variable was defined in a different module\n",
        "!python -m pip install importlib\n",
        "import importlib\n",
        "\n",
        "# List all modules imported in the current notebook\n",
        "modules = importlib.util.find_spec(\"similarity_score\")\n",
        "\n",
        "if modules:\n",
        "    print(\"Module containing 'similarity_score' variable:\", modules.name)\n",
        "else:\n",
        "    print(\"Module containing 'similarity_score' variable not found.\")"
      ],
      "cell_type": "code",
      "metadata": {
        "id": "0yJkiNYPvh8c"
      },
      "execution_count": null,
      "outputs": []
    },
    {
      "source": [
        "!pip show module_name"
      ],
      "cell_type": "code",
      "metadata": {
        "id": "jrxIeIAWv5s4"
      },
      "execution_count": null,
      "outputs": []
    },
    {
      "source": [
        "!pip install module_name"
      ],
      "cell_type": "code",
      "metadata": {
        "id": "2Z-M4CvMv55E"
      },
      "execution_count": null,
      "outputs": []
    },
    {
      "source": [
        "import module_name"
      ],
      "cell_type": "code",
      "metadata": {
        "id": "1MBDNKCrvtRk"
      },
      "execution_count": null,
      "outputs": []
    },
    {
      "source": [
        "!python -c \"import sys; print('similarity_score' in sys.modules)\""
      ],
      "cell_type": "code",
      "metadata": {
        "id": "8YKPd5LDwQTO"
      },
      "execution_count": null,
      "outputs": []
    },
    {
      "source": [
        "!echo $similarity_score"
      ],
      "cell_type": "code",
      "metadata": {
        "id": "jL66Y5s2wgFa"
      },
      "execution_count": null,
      "outputs": []
    },
    {
      "cell_type": "code",
      "source": [
        "Recommendation_Score = list(enumerate(similarity_score[Index_of_Close_Match_Movie]))\n",
        "print(Recommendation_Score)\n"
      ],
      "metadata": {
        "id": "5_qVP7UExaey"
      },
      "execution_count": null,
      "outputs": []
    },
    {
      "cell_type": "code",
      "source": [
        "len (Recommendation_Score)"
      ],
      "metadata": {
        "id": "iT9EO1XRpyzB"
      },
      "execution_count": null,
      "outputs": []
    },
    {
      "source": [
        "print(Sorted_Similar_Movies)"
      ],
      "cell_type": "code",
      "metadata": {
        "id": "wgHgdQ4CvciQ"
      },
      "execution_count": null,
      "outputs": []
    },
    {
      "cell_type": "code",
      "source": [
        "Sorted_Similar_Movies = sorted(Recommendation_Score, key=lambda x: x[1], reverse=True)\n",
        "print(Sorted_Similar_Movies)\n"
      ],
      "metadata": {
        "id": "3cWWirp3rRHm"
      },
      "execution_count": null,
      "outputs": []
    },
    {
      "source": [
        "# Replace the following line with your similarity calculation code\n",
        "Sorted_Similar_Movies = []"
      ],
      "cell_type": "code",
      "metadata": {
        "id": "XYw4d2nnvMeT"
      },
      "execution_count": null,
      "outputs": []
    },
    {
      "cell_type": "code",
      "source": [
        "print('Top 30 Movies Suggested for You : \\n ')\n",
        "i=1\n",
        "for movie in Sorted_Similar_Movies:\n",
        "    index=movie[0]\n",
        "    title_from_index=df[df.Movie_ID == index]['Movie_Title'].values[0]\n",
        "    if (i<31):\n",
        "        print(i, '.',title_from_index)\n",
        "        i+=1"
      ],
      "metadata": {
        "id": "kg2F4lBhum7E"
      },
      "execution_count": null,
      "outputs": []
    },
    {
      "source": [
        "df = pd.read_csv('https://github.com/YBI-Foundation/Dataset/raw/main/Movies%20Recommendation.csv')"
      ],
      "cell_type": "code",
      "metadata": {
        "id": "r9xYspoIy5Qe"
      },
      "execution_count": 24,
      "outputs": []
    },
    {
      "source": [
        "!pip install difflib"
      ],
      "cell_type": "code",
      "metadata": {
        "id": "fvlk6HJgz6OE"
      },
      "execution_count": null,
      "outputs": []
    },
    {
      "cell_type": "code",
      "source": [
        "Movies_Name = input('Enter your favourite movie name: ')\n",
        "print(Movies_Name)\n",
        "All_Movies_Title_List = df['Movie_Title'].tolist()\n",
        "\n",
        "print(locals())\n",
        "Favourite_movie_name = \"Your favorite movie name\"\n",
        "Movies_Recommendaton = difflib.get_close_matches(Favourite_movie_name,All_Movies_Title_List)\n",
        "print(Movies_Recommendaton)\n",
        "\n",
        "print(Movies_Recommendaton)\n",
        "print(len(Movies_Recommendaton))\n",
        "print(locals())\n",
        "Movies_Recommendaton = []\n",
        "print(len(Movies_Recommendaton))\n",
        "Movies_Recommendaton = []\n",
        "print(len(Movies_Recommendaton))\n",
        "print(len(Movie_Recommendation))\n",
        "if not Movie_Recommendation:\n",
        "    print(\"The Movie_Recommendation list is empty.\")\n",
        "if Movie_Recommendation:\n",
        "    Close_Match = Movie_Recommendation[0]\n",
        "    print(Close_Match)\n",
        "else:\n",
        "    print(\"The Movie_Recommendation list is empty.\")\n",
        "try:\n",
        "    Close_Match = Movie_Recommendation[0]\n",
        "    print(Close_Match)\n",
        "except IndexError:\n",
        "    print(\"The Movie_Recommendation list is empty.\")\n",
        "Index_of_Close_Match_Movie = df[df.Movie_Title == 'The Shawshank Redemption']['Movie_ID'].iloc[0]\n",
        "print(Index_of_Close_Match_Movie)\n",
        "\n",
        "print(locals())\n",
        "%whos similarity_score\n",
        "\n",
        "global_variables = []\n",
        "global_variables = sys.modules[__name__].__dict__\n",
        "print(global_variables)\n",
        "# Investigate if the variable is defined.\n",
        "print(\"similarity_score\" in globals())\n",
        "# Investigate where the variable is defined.\n",
        "%history\n",
        "\n",
        "!python -m pip install pandas\n",
        "\n",
        "df = pd.DataFrame(data={\"similarity_score\": [0.1, 0.2, 0.3]}, index=[\"Movie1\", \"Movie2\", \"Movie3\"])\n",
        "\n",
        "# Check if the variable exists\n",
        "if \"similarity_score\" in globals():\n",
        "    print(\"Variable 'similarity_score' exists.\")\n",
        "else:\n",
        "    print(\"Variable 'similarity_score' does not exist.\")\n",
        "# Check if the variable was defined in a different module\n",
        "!python -m pip install importlib\n",
        "\n",
        "# List all modules imported in the current notebook\n",
        "modules = importlib.util.find_spec(\"similarity_score\")\n",
        "\n",
        "if modules:\n",
        "    print(\"Module containing 'similarity_score' variable:\", modules.name)\n",
        "else:\n",
        "    print(\"Module containing 'similarity_score' variable not found.\")\n",
        "!pip show module_name\n",
        "!pip install module_name\n",
        "\n",
        "!python -c \"import sys; print('similarity_score' in sys.modules)\"\n",
        "!echo $similarity_score\n",
        "Recommendation_Score = list(enumerate(similarity_score[Index_of_Close_Match_Movie]))\n",
        "print(Recommendation_Score)\n",
        "\n",
        "len (Recommendation_Score)\n",
        "print(Sorted_Similar_Movies)\n",
        "Sorted_Similar_Movies = sorted(Recommendation_Score, key=lambda x: x[1], reverse=True)\n",
        "print(Sorted_Similar_Movies)\n",
        "\n",
        "# Replace the following line with your similarity calculation code\n",
        "Sorted_Similar_Movies = []\n",
        "print('Top 30 Movies Suggested for You : \\n ')\n",
        "i=1\n",
        "for movie in Sorted_Similar_Movies:\n",
        "    index=movie[0]\n",
        "    title_from_index=df[df.Movie_ID == index]['Movie_Title'].values[0]\n",
        "    if (i<31):\n",
        "        print(i, '.',title_from_index)\n",
        "        i+=1"
      ],
      "metadata": {
        "id": "ciVWC1a3wQ8x"
      },
      "execution_count": null,
      "outputs": []
    }
  ]
}